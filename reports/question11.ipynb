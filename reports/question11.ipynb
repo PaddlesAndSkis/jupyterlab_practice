{
 "cells": [
  {
   "cell_type": "markdown",
   "id": "2a4532c3-7413-4294-adbb-ad819fa9cad8",
   "metadata": {},
   "source": [
    "# Cameron Turner\n",
    "\n",
    "Notebook for Assignment 7."
   ]
  },
  {
   "cell_type": "code",
   "execution_count": 1,
   "id": "aa7f820c-e03d-4d71-bfd4-25597fffe5b5",
   "metadata": {},
   "outputs": [
    {
     "name": "stdout",
     "output_type": "stream",
     "text": [
      "The mean for the list [2, 4, 6, 8] is:  5.0\n"
     ]
    }
   ],
   "source": [
    "def compute_mean(num_list):\n",
    "    # A function to iterate over and sum a list of numbers then return the computed mean.\n",
    "\n",
    "    if type(num_list) is not list: raise TypeError(\"The parameter must be of type list.\")\n",
    "\n",
    "    sum = 0\n",
    "    \n",
    "    for i in num_list:\n",
    "        sum += i\n",
    "        \n",
    "    return sum / len(num_list)    \n",
    "\n",
    "num_list = [2, 4, 6, 8]\n",
    "print (\"The mean for the list\", num_list, \"is: \", compute_mean(num_list))"
   ]
  },
  {
   "cell_type": "markdown",
   "id": "c5cc67df-ce3d-4b2b-b156-6f06d2300de3",
   "metadata": {},
   "source": [
    "### Function Summary\n",
    "\n",
    "The function, __compute_mean__ will compute the mean of an array list of numbers.  It follows the standard _mean_ formula:\n",
    "\n",
    "$$\n",
    "\\tilde{x} = \\frac{x_1+x_2+...+x_n}{n}=\\frac{1}{n}\\left(\\sum_{i=1}^{n} x_i \\right) \n",
    "$$\n",
    "\n"
   ]
  },
  {
   "cell_type": "code",
   "execution_count": null,
   "id": "16c476cd-afdb-4899-8d38-7434eb5ca42e",
   "metadata": {},
   "outputs": [],
   "source": []
  },
  {
   "cell_type": "code",
   "execution_count": null,
   "id": "0f371543-9caf-4806-a106-84ea3021d11e",
   "metadata": {},
   "outputs": [],
   "source": []
  },
  {
   "cell_type": "code",
   "execution_count": 2,
   "id": "1077e6e4-da52-47e0-90b5-be629a332aa5",
   "metadata": {},
   "outputs": [
    {
     "data": {
      "text/plain": [
       "'A function to iterate over a list to sum the values then return the computed mean.\\n\\nParameters\\n----------\\nnum_list : list\\n    A list of numbers.\\n\\nReturns\\n-------\\nint\\n    The mean of the list of numbers.\\n\\nRaises\\n------\\nTypeError\\n    If the input argument num_list is not of type list\\n    \\nExamples\\n--------\\ncompute_mean([2, 4, 6, 8])\\n'"
      ]
     },
     "execution_count": 2,
     "metadata": {},
     "output_type": "execute_result"
    }
   ],
   "source": [
    "    \"\"\"A function to iterate over a list to sum the values then return the computed mean.\n",
    "\n",
    "    Parameters\n",
    "    ----------\n",
    "    num_list : list\n",
    "        A list of numbers.\n",
    "\n",
    "    Returns\n",
    "    -------\n",
    "    int\n",
    "        The mean of the list of numbers.\n",
    "\n",
    "    Raises\n",
    "    ------\n",
    "    TypeError\n",
    "        If the input argument num_list is not of type list\n",
    "        \n",
    "    Examples\n",
    "    --------\n",
    "    compute_mean([2, 4, 6, 8])\n",
    "    \"\"\""
   ]
  }
 ],
 "metadata": {
  "kernelspec": {
   "display_name": "Python 3 (ipykernel)",
   "language": "python",
   "name": "python3"
  },
  "language_info": {
   "codemirror_mode": {
    "name": "ipython",
    "version": 3
   },
   "file_extension": ".py",
   "mimetype": "text/x-python",
   "name": "python",
   "nbconvert_exporter": "python",
   "pygments_lexer": "ipython3",
   "version": "3.9.12"
  }
 },
 "nbformat": 4,
 "nbformat_minor": 5
}
